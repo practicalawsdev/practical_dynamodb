{
 "cells": [
  {
   "cell_type": "markdown",
   "id": "5822cfc6-6c2d-4ee7-8f26-e44dfb6320ee",
   "metadata": {
    "editable": true,
    "slideshow": {
     "slide_type": ""
    },
    "tags": []
   },
   "source": [
    "# <span style=\"color:blue\">DynamoDB get_item\n",
    "A **get_item** operation **retrieves** a **specific item based on its primary key**."
   ]
  },
  {
   "cell_type": "markdown",
   "id": "267a5847-ea4b-4c01-9273-146a625902b8",
   "metadata": {},
   "source": [
    "# 1) Import AWS Python SDK (Boto) Package"
   ]
  },
  {
   "cell_type": "code",
   "execution_count": null,
   "id": "99c14013-d79d-4e8e-920a-6e8d0e48258a",
   "metadata": {},
   "outputs": [],
   "source": [
    "import boto3\n",
    "from boto3.dynamodb.conditions import Key"
   ]
  },
  {
   "cell_type": "code",
   "execution_count": null,
   "id": "86903f80-bed7-4276-a9ed-86a682885586",
   "metadata": {},
   "outputs": [],
   "source": [
    "# import standard library to print nice JSON\n",
    "import json"
   ]
  },
  {
   "cell_type": "markdown",
   "id": "dafe24fc-278d-432f-9b65-3a6dc2f0d29c",
   "metadata": {},
   "source": [
    "# 2) Create DynamoDB client object\n",
    "The Python SDK supports two clients:\n",
    "- The low level DynamoDB **service client**\n",
    "- The higher level DynamoDB **resource client**\n",
    "\n",
    "**For this example we'll see both clients**."
   ]
  },
  {
   "cell_type": "markdown",
   "id": "06545ed7-fae4-4ad7-a36e-89a69aba0b51",
   "metadata": {},
   "source": [
    "### Create a DynamoDB resource client\n",
    "The **resource client** will support **more intuitive** requests, with **simpler manipulation of** the **JSON** structures."
   ]
  },
  {
   "cell_type": "code",
   "execution_count": null,
   "id": "bf546e8f-976e-469c-87c1-d55f92760416",
   "metadata": {},
   "outputs": [],
   "source": [
    "# Creating the DynamoDB resource Client\n",
    "ddb = boto3.resource('dynamodb')"
   ]
  },
  {
   "cell_type": "markdown",
   "id": "8b0a2bd1-53a3-4b80-bd4c-b9333dbebc1e",
   "metadata": {},
   "source": [
    "# 3) Use DynamoDB resource client to get an item"
   ]
  },
  {
   "cell_type": "markdown",
   "id": "c65cf052-93b0-4f83-bced-3624d60da351",
   "metadata": {},
   "source": [
    "### Get table resource\n",
    "The resource client follows an object-oriented style. So here I use the resource client to get an object that maps to the table specified. I will subsequently make calls on that object."
   ]
  },
  {
   "cell_type": "code",
   "execution_count": null,
   "id": "1001198b-b742-4a48-b4fc-e58e5d46c9b1",
   "metadata": {},
   "outputs": [],
   "source": [
    "try:\n",
    "    # get a reference to the tripa table\n",
    "    trips_table = ddb.Table('travel_planner_trips')\n",
    "# catch exceptions\n",
    "except Exception as e:\n",
    "    print(\"Error obtaining resource: \", e)"
   ]
  },
  {
   "attachments": {},
   "cell_type": "markdown",
   "id": "0802e2e4-ecf7-4551-98f1-49cfa007a815",
   "metadata": {},
   "source": [
    "## Retrieve specifc trip with a *get*\n",
    "A ***get*** operation retrieves a specific item based on its primary key. The primary key can be just the partition key if that's unique, or a combination of the partition key and sort key.\n",
    "\n",
    "For the *travel_planner_trips* table, the partition key and sort key are:\n",
    "- **Partition key:** *user_id*\n",
    "- **Sort key:** *trip_id*\n",
    "\n",
    "A **get** will **use** a ***Key*** parameter in the operation to specify the primary key."
   ]
  },
  {
   "cell_type": "markdown",
   "id": "6e6503cb-f402-4e73-8a54-d2953eb55a39",
   "metadata": {},
   "source": [
    "### Specify data to be retrieved"
   ]
  },
  {
   "cell_type": "code",
   "execution_count": null,
   "id": "08f09201-bd86-456d-b311-4bb59ff0233c",
   "metadata": {},
   "outputs": [],
   "source": [
    "# set variables for the primary key\n",
    "user_id = \"tucker\"\n",
    "trip_id = \"2025/07/10_Iceland\""
   ]
  },
  {
   "cell_type": "markdown",
   "id": "e99a421a-19dc-4bc8-8f72-febe34f778c2",
   "metadata": {},
   "source": [
    "### Perform get_item operation"
   ]
  },
  {
   "cell_type": "code",
   "execution_count": null,
   "id": "24f40b68-df99-4237-9e57-a03a240ab05b",
   "metadata": {},
   "outputs": [],
   "source": [
    "try:        \n",
    "    # get trips matching user_id and trip_id\n",
    "    db_resp = trips_table.get_item(\n",
    "        Key={\n",
    "            'user_id': user_id,\n",
    "            'trip_id': trip_id\n",
    "        }\n",
    "    )\n",
    "    \n",
    "# catch exceptions\n",
    "except Exception as e:\n",
    "    print(\"Error on query: \")\n",
    "    print(e)"
   ]
  },
  {
   "cell_type": "markdown",
   "id": "0b2dcac7-bd8f-4782-88f1-b95dc8e8103b",
   "metadata": {},
   "source": [
    "### Get data from response object\n",
    "Response objects are in JSON format, which in Python will be in a dictionary. We just need to check the format, and extract the data we want from it."
   ]
  },
  {
   "cell_type": "markdown",
   "id": "289d4bb8-e73a-4548-b77d-c1b20fc27778",
   "metadata": {},
   "source": [
    "#### Print the complete response object if we want to visualize it"
   ]
  },
  {
   "cell_type": "code",
   "execution_count": null,
   "id": "26f5faae-3758-479a-b025-3e9a2de4c8a4",
   "metadata": {},
   "outputs": [],
   "source": [
    "print(\"Full response:\\n\",\n",
    "      json.dumps(db_resp, indent=4))"
   ]
  },
  {
   "cell_type": "markdown",
   "id": "1b8147f9-f217-4de8-99b9-cf1996c2b519",
   "metadata": {},
   "source": [
    "#### Extract just the data we want"
   ]
  },
  {
   "cell_type": "code",
   "execution_count": null,
   "id": "7e68211a-4f20-4a59-8e34-504f30e5b151",
   "metadata": {},
   "outputs": [],
   "source": [
    "# print a summary of the trip item\n",
    "item = db_resp['Item']\n",
    "print(f\"Locations: {item['locations']}\")\n",
    "print(f\"Start date: {item['start_date']}\")\n",
    "print(f\"End date: {item['end_date']}\")"
   ]
  },
  {
   "cell_type": "markdown",
   "id": "b597fc0c-78df-4751-bab2-13e31492f71b",
   "metadata": {},
   "source": [
    "# 3) Use DynamoDB service client to get an item"
   ]
  },
  {
   "cell_type": "markdown",
   "id": "687d2949-f37f-47ae-a0b0-845ab0b5e8d7",
   "metadata": {},
   "source": [
    "### Create a DynamoDB service client\n",
    "The **service client** will require a more **verbose code**, manipulating a **more complex DynamoDB specific JSON** data structure. It's primarily **used for advanced operations**, including database transactions."
   ]
  },
  {
   "cell_type": "code",
   "execution_count": null,
   "id": "7eac15cc-f2b7-40e6-8db6-12c850817c11",
   "metadata": {},
   "outputs": [],
   "source": [
    "# Creating the DynamoDB service Client\n",
    "ddb = boto3.client('dynamodb')"
   ]
  },
  {
   "attachments": {},
   "cell_type": "markdown",
   "id": "c3d3c53f-2930-4e35-a382-716fb9129e4a",
   "metadata": {},
   "source": [
    "## Retrieve specifc trip with a *get*\n",
    "A ***get*** operation retrieves a specific item based on its primary key. The primary key can be just the partition key if that's unique, or a combination of the partition key and sort key.\n",
    "\n",
    "For the *travel_planner_trips* table, the partition key and sort key are:\n",
    "- **Partition key:** *user_id*\n",
    "- **Sort key:** *trip_id*\n",
    "\n",
    "\n",
    "For this example, I'll be filtering on the following:\n",
    "- **user id**: *tucker*\n",
    "- **trip_id**: *2025/07/10_Iceland*"
   ]
  },
  {
   "cell_type": "code",
   "execution_count": null,
   "id": "e9669200-e219-4f9e-aa92-206761d87b21",
   "metadata": {},
   "outputs": [],
   "source": [
    "# set variables for the filtering criteria\n",
    "user_id = \"tucker\"\n",
    "trip_id = \"2025/07/10_Iceland\"\n",
    "\n",
    "try:        \n",
    "    # get trips matching user_id and trip_id\n",
    "    db_resp = ddb.get_item(\n",
    "        TableName='travel_planner_trips',\n",
    "        Key={\n",
    "            'user_id': {'S': user_id},\n",
    "            'trip_id': {'S': trip_id}\n",
    "        }\n",
    "    )\n",
    "    \n",
    "# catch exceptions\n",
    "except Exception as e:\n",
    "    print(\"Error on query: \")\n",
    "    print(e)"
   ]
  },
  {
   "cell_type": "markdown",
   "id": "95b4b7e9-f437-4b44-9ebb-4b8ca0c7f96d",
   "metadata": {},
   "source": [
    "### Get data from response object\n",
    "Response objects are in JSON format, which in Python will be in a dictionary. We just need to check the format, and extract the data we want from it.\n",
    "\n",
    "Note that the response for the service client is a bigger structure. That's because it includes data type designators (\"S\" for strings, \"L\" for lists and so on) for each value."
   ]
  },
  {
   "cell_type": "markdown",
   "id": "1c9e037e-a349-47b9-a14d-d9d945ee8c9e",
   "metadata": {},
   "source": [
    "#### Print the complete response object if we want to visualize it"
   ]
  },
  {
   "cell_type": "code",
   "execution_count": null,
   "id": "787877ce-f3ae-4b52-b753-7e00d55f9d80",
   "metadata": {},
   "outputs": [],
   "source": [
    "print(\"Full response:\\n\",\n",
    "      json.dumps(db_resp, indent=4))"
   ]
  },
  {
   "cell_type": "markdown",
   "id": "2e6ae8f3-fe26-42e6-a643-f42405f650a3",
   "metadata": {},
   "source": [
    "#### Extract just the data we want\n",
    "We'll still drill down the JSON structure to retrieve specific data, but with the extended JSON structure of the service client that will look a little longer."
   ]
  },
  {
   "cell_type": "code",
   "execution_count": null,
   "id": "cb6dd609-b912-4252-b45a-57a5385dffb1",
   "metadata": {},
   "outputs": [],
   "source": [
    "# iterate through location list structure to create a plain list of locations\n",
    "locations = []\n",
    "for loc in db_resp['Item']['locations']['L']:\n",
    "    locations.append(loc['S'])\n",
    "\n",
    "# print a summary of the trips locations start date and end date\n",
    "print(f\"Locations: {locations}\")\n",
    "print(f\"Start date: {db_resp['Item']['start_date']['S']}\")\n",
    "print(f\"End date: {db_resp['Item']['end_date']['S']}\")"
   ]
  },
  {
   "cell_type": "code",
   "execution_count": null,
   "id": "7dd0ad06-db66-446f-b791-4ad4af1bfaca",
   "metadata": {},
   "outputs": [],
   "source": []
  }
 ],
 "metadata": {
  "kernelspec": {
   "display_name": "Python 3 (ipykernel)",
   "language": "python",
   "name": "python3"
  },
  "language_info": {
   "codemirror_mode": {
    "name": "ipython",
    "version": 3
   },
   "file_extension": ".py",
   "mimetype": "text/x-python",
   "name": "python",
   "nbconvert_exporter": "python",
   "pygments_lexer": "ipython3",
   "version": "3.13.5"
  }
 },
 "nbformat": 4,
 "nbformat_minor": 5
}
