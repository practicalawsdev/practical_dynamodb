{
 "cells": [
  {
   "cell_type": "markdown",
   "id": "5822cfc6-6c2d-4ee7-8f26-e44dfb6320ee",
   "metadata": {
    "editable": true,
    "slideshow": {
     "slide_type": ""
    },
    "tags": []
   },
   "source": [
    "# <span style=\"color:blue\">DynamoDB query\n",
    "A ***query*** operation **retrieves** items with specified **partition key**, and **optional** filtering criteria on the **sort key**. The **partition key** must be an **exact match**, but the **sort key** can have more **flexible comparisons**."
   ]
  },
  {
   "cell_type": "markdown",
   "id": "267a5847-ea4b-4c01-9273-146a625902b8",
   "metadata": {},
   "source": [
    "# 1) Import AWS Python SDK (Boto) Package"
   ]
  },
  {
   "cell_type": "code",
   "execution_count": null,
   "id": "99c14013-d79d-4e8e-920a-6e8d0e48258a",
   "metadata": {},
   "outputs": [],
   "source": [
    "import boto3\n",
    "from boto3.dynamodb.conditions import Key"
   ]
  },
  {
   "cell_type": "code",
   "execution_count": null,
   "id": "86903f80-bed7-4276-a9ed-86a682885586",
   "metadata": {},
   "outputs": [],
   "source": [
    "# import standard library to print nice JSON\n",
    "import json"
   ]
  },
  {
   "cell_type": "markdown",
   "id": "dafe24fc-278d-432f-9b65-3a6dc2f0d29c",
   "metadata": {},
   "source": [
    "# 2) Create DynamoDB client object\n",
    "The Python SDK supports two clients:\n",
    "- The low level DynamoDB **service client**\n",
    "- The higher level DynamoDB **resource client**\n",
    "\n",
    "**For this example I'll be using the resource client**, which makes for simpler looking calls."
   ]
  },
  {
   "cell_type": "code",
   "execution_count": null,
   "id": "bf546e8f-976e-469c-87c1-d55f92760416",
   "metadata": {},
   "outputs": [],
   "source": [
    "# Creating the DynamoDB Client\n",
    "ddb = boto3.resource('dynamodb')"
   ]
  },
  {
   "cell_type": "markdown",
   "id": "300535fd-05b5-4613-8aca-46e7a2672869",
   "metadata": {},
   "source": [
    "# 3) Use DynamoDB client to perform a query"
   ]
  },
  {
   "cell_type": "markdown",
   "id": "c65cf052-93b0-4f83-bced-3624d60da351",
   "metadata": {},
   "source": [
    "### Get table resource\n",
    "The resource client follows an object-oriented style. So here I use the resource client to get an object that maps to the table specified. I will subsequently make calls on that object."
   ]
  },
  {
   "cell_type": "code",
   "execution_count": null,
   "id": "1001198b-b742-4a48-b4fc-e58e5d46c9b1",
   "metadata": {},
   "outputs": [],
   "source": [
    "try:\n",
    "    # get a reference to the trips table\n",
    "    trips_table = ddb.Table('travel_planner_trips')\n",
    "# catch exceptions\n",
    "except Exception as e:\n",
    "    print(\"Error obtaining resource: \", e)"
   ]
  },
  {
   "attachments": {},
   "cell_type": "markdown",
   "id": "0802e2e4-ecf7-4551-98f1-49cfa007a815",
   "metadata": {},
   "source": [
    "## Retrieve trips for user with *query*\n",
    "A ***query*** operation retrieves items with specified partition key, and optional filtering criteria on the sort key.\n",
    "\n",
    "For the *travel_planner_trips* table, the partition key and sort key are:\n",
    "- **Partition key:** *user_id*\n",
    "- **Sort key:** *trip_id*\n",
    "\n",
    "A **query** will **use** a ***KeyConditionExpression*** in the operation to specify the key based query criteria."
   ]
  },
  {
   "cell_type": "markdown",
   "id": "e3b817c5-17c1-4829-b98a-22c7cfb60aa9",
   "metadata": {},
   "source": [
    "### Specify data to be retrieved"
   ]
  },
  {
   "cell_type": "code",
   "execution_count": null,
   "id": "1206050e-40a9-4f4c-9be6-a5f6baaa9920",
   "metadata": {},
   "outputs": [],
   "source": [
    "# set variables for the filtering criteria\n",
    "user_id = \"tucker\""
   ]
  },
  {
   "cell_type": "markdown",
   "id": "c2998005-2d08-4cbf-a45f-f6b41ba11740",
   "metadata": {},
   "source": [
    "### Perform query operation"
   ]
  },
  {
   "cell_type": "code",
   "execution_count": null,
   "id": "24f40b68-df99-4237-9e57-a03a240ab05b",
   "metadata": {},
   "outputs": [],
   "source": [
    "try:        \n",
    "    # Perform the query\n",
    "    db_resp = trips_table.query(\n",
    "        KeyConditionExpression= (\n",
    "            Key('user_id').eq(user_id)\n",
    "        )\n",
    "    )\n",
    "    \n",
    "# catch exceptions\n",
    "except Exception as e:\n",
    "    print(\"Error on query: \")\n",
    "    print(e)"
   ]
  },
  {
   "cell_type": "markdown",
   "id": "0b2dcac7-bd8f-4782-88f1-b95dc8e8103b",
   "metadata": {},
   "source": [
    "### Get data from response object\n",
    "Response objects are in JSON format, which in Python will be in a dictionary. We just need to check the format, and extract the data we want from it."
   ]
  },
  {
   "cell_type": "markdown",
   "id": "289d4bb8-e73a-4548-b77d-c1b20fc27778",
   "metadata": {},
   "source": [
    "#### Print the complete response object if we want to visualize it"
   ]
  },
  {
   "cell_type": "code",
   "execution_count": null,
   "id": "26f5faae-3758-479a-b025-3e9a2de4c8a4",
   "metadata": {},
   "outputs": [],
   "source": [
    "print(\"Full response:\\n\",\n",
    "      json.dumps(db_resp, indent=4))"
   ]
  },
  {
   "cell_type": "markdown",
   "id": "1b8147f9-f217-4de8-99b9-cf1996c2b519",
   "metadata": {},
   "source": [
    "#### Extract just the data we want"
   ]
  },
  {
   "cell_type": "code",
   "execution_count": null,
   "id": "7e68211a-4f20-4a59-8e34-504f30e5b151",
   "metadata": {},
   "outputs": [],
   "source": [
    "# iterate through each item, and print a summary for each\n",
    "for item in db_resp['Items']:\n",
    "    start_date = item['start_date']\n",
    "    end_date = item['end_date']\n",
    "    locations = item['locations']\n",
    "    \n",
    "    print(f'From: {start_date} to {end_date} - {locations}')"
   ]
  },
  {
   "cell_type": "code",
   "execution_count": null,
   "id": "e75d35b3-2be6-44e5-bd91-8dda1356c2bd",
   "metadata": {},
   "outputs": [],
   "source": []
  }
 ],
 "metadata": {
  "kernelspec": {
   "display_name": "Python 3 (ipykernel)",
   "language": "python",
   "name": "python3"
  },
  "language_info": {
   "codemirror_mode": {
    "name": "ipython",
    "version": 3
   },
   "file_extension": ".py",
   "mimetype": "text/x-python",
   "name": "python",
   "nbconvert_exporter": "python",
   "pygments_lexer": "ipython3",
   "version": "3.13.5"
  }
 },
 "nbformat": 4,
 "nbformat_minor": 5
}
