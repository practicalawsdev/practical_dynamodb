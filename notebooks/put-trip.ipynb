{
 "cells": [
  {
   "cell_type": "markdown",
   "id": "5822cfc6-6c2d-4ee7-8f26-e44dfb6320ee",
   "metadata": {
    "editable": true,
    "slideshow": {
     "slide_type": ""
    },
    "tags": []
   },
   "source": [
    "# <span style=\"color:blue\">DynamoDB put_item\n",
    "A ***put_item*** operation **inserts or fully replaces** an **item** on a table."
   ]
  },
  {
   "cell_type": "markdown",
   "id": "267a5847-ea4b-4c01-9273-146a625902b8",
   "metadata": {},
   "source": [
    "# 1) Import AWS Python SDK (Boto) Package"
   ]
  },
  {
   "cell_type": "code",
   "execution_count": null,
   "id": "99c14013-d79d-4e8e-920a-6e8d0e48258a",
   "metadata": {},
   "outputs": [],
   "source": [
    "import boto3\n",
    "from boto3.dynamodb.conditions import Key"
   ]
  },
  {
   "cell_type": "code",
   "execution_count": null,
   "id": "86903f80-bed7-4276-a9ed-86a682885586",
   "metadata": {},
   "outputs": [],
   "source": [
    "# import standard library to print nice JSON\n",
    "import json"
   ]
  },
  {
   "cell_type": "markdown",
   "id": "dafe24fc-278d-432f-9b65-3a6dc2f0d29c",
   "metadata": {},
   "source": [
    "# 2) Create DynamoDB client object\n",
    "The Python SDK supports two clients:\n",
    "- The low level DynamoDB **service client**\n",
    "- The higher level DynamoDB **resource client**\n",
    "\n",
    "**For this example we'll see both clients**."
   ]
  },
  {
   "cell_type": "code",
   "execution_count": null,
   "id": "bf546e8f-976e-469c-87c1-d55f92760416",
   "metadata": {},
   "outputs": [],
   "source": [
    "# Creating the DynamoDB Client\n",
    "ddb = boto3.resource('dynamodb')"
   ]
  },
  {
   "cell_type": "markdown",
   "id": "300535fd-05b5-4613-8aca-46e7a2672869",
   "metadata": {},
   "source": [
    "# 3) Use DynamoDB resource client to put an item"
   ]
  },
  {
   "cell_type": "markdown",
   "id": "cfbda824-ea5b-48eb-9bbc-d6eb535e8352",
   "metadata": {},
   "source": [
    "### Create a DynamoDB resource client\n",
    "The **resource client** will support **more intuitive** requests, with **simpler manipulation of** the **JSON** structures."
   ]
  },
  {
   "cell_type": "markdown",
   "id": "c65cf052-93b0-4f83-bced-3624d60da351",
   "metadata": {},
   "source": [
    "### Get table resource\n",
    "The resource client follows an object-oriented style. So here I use the resource client to get an object that maps to the table specified. I will subsequently make calls on that object."
   ]
  },
  {
   "cell_type": "code",
   "execution_count": null,
   "id": "1001198b-b742-4a48-b4fc-e58e5d46c9b1",
   "metadata": {},
   "outputs": [],
   "source": [
    "try:\n",
    "    # get a reference to the trips table\n",
    "    trips_table = ddb.Table('travel_planner_trips')\n",
    "# catch exceptions\n",
    "except Exception as e:\n",
    "    print(\"Error obtaining resource: \", e)"
   ]
  },
  {
   "attachments": {},
   "cell_type": "markdown",
   "id": "0802e2e4-ecf7-4551-98f1-49cfa007a815",
   "metadata": {},
   "source": [
    "## Add a new trip for user with a put operation\n",
    "A ***put*** operation inserts or fully replaces an item on a table. At a minimum, the put operation **must include** the **partition key, and** a **sort key** (unless a sort key is not used in the table).\n",
    "\n",
    "For the *travel_planner_trips* table, the partition key and sort key are:\n",
    "- **Partition key:** *user_id*\n",
    "- **Sort key:** *trip_id*\n",
    "\n",
    "The trip id is created as a combination of the start date and the first location."
   ]
  },
  {
   "cell_type": "markdown",
   "id": "d8a8c595-2457-4cb7-81c5-2321de68168f",
   "metadata": {},
   "source": [
    "### Define trip data to be inserted"
   ]
  },
  {
   "cell_type": "code",
   "execution_count": null,
   "id": "24f40b68-df99-4237-9e57-a03a240ab05b",
   "metadata": {},
   "outputs": [],
   "source": [
    "trip_data = {\n",
    "    \"user_id\":\"lexi\",\n",
    "    \"trip_id\": \"2026/10/17_Vermont\",\n",
    "    \"start_date\":\"2026/10/17\",\n",
    "    \"start_time\":\"5:30pm\",\n",
    "    \"end_date\":\"2026/10/19\",\n",
    "    \"end_time\":\"11:00am\",\n",
    "    \"locations\":[\"Vermont\"],\n",
    "}"
   ]
  },
  {
   "cell_type": "markdown",
   "id": "b68e475a-e8ae-4e67-9fbf-3431283f1b98",
   "metadata": {},
   "source": [
    "### Perform put_item operation"
   ]
  },
  {
   "cell_type": "code",
   "execution_count": null,
   "id": "8aa876ae-5fe2-4f2e-8af4-f3d81abccb02",
   "metadata": {},
   "outputs": [],
   "source": [
    "# Insert the data into the table\n",
    "try:\n",
    "    # insert the trip\n",
    "    db_resp = trips_table.put_item(\n",
    "        Item = trip_data\n",
    "    )\n",
    "\n",
    "except ClientError as e:\n",
    "    print(\"Error on put: \")\n",
    "    print(e)"
   ]
  },
  {
   "cell_type": "markdown",
   "id": "0b2dcac7-bd8f-4782-88f1-b95dc8e8103b",
   "metadata": {},
   "source": [
    "### Get data from response object\n",
    "Response objects are in JSON format, which in Python will be in a dictionary. We just need to check the format, and extract the data we want from it."
   ]
  },
  {
   "cell_type": "markdown",
   "id": "289d4bb8-e73a-4548-b77d-c1b20fc27778",
   "metadata": {},
   "source": [
    "#### Print the complete response object if we want to visualize it"
   ]
  },
  {
   "cell_type": "code",
   "execution_count": null,
   "id": "26f5faae-3758-479a-b025-3e9a2de4c8a4",
   "metadata": {},
   "outputs": [],
   "source": [
    "print(\"Full response:\\n\",\n",
    "      json.dumps(db_resp, indent=4))"
   ]
  },
  {
   "cell_type": "markdown",
   "id": "8f8fceaf-4234-4f25-b777-83a76000b8b7",
   "metadata": {},
   "source": [
    "# 3) Use DynamoDB service client to put an item"
   ]
  },
  {
   "cell_type": "markdown",
   "id": "35c663a1-4738-4fbc-874b-0840630ad024",
   "metadata": {},
   "source": [
    "### Create a DynamoDB service client\n",
    "The **service client** will require a more **verbose code**, manipulating a **more complex DynamoDB specific JSON** data structure. It's primarily **used for advanced operations**, including database transactions."
   ]
  },
  {
   "cell_type": "code",
   "execution_count": null,
   "id": "1eb47382-3e72-46ef-b845-899947d01cca",
   "metadata": {},
   "outputs": [],
   "source": [
    "# Creating the DynamoDB service Client\n",
    "ddb = boto3.client('dynamodb')"
   ]
  },
  {
   "attachments": {},
   "cell_type": "markdown",
   "id": "1ff25674-1aa5-49fc-b290-154520773cc9",
   "metadata": {},
   "source": [
    "## Add a new trip for user with a put operation\n",
    "A ***put*** operation inserts or fully replaces an item on a table. At a minimum, the put operation **must include** the **partition key, and** a **sort key** (unless a sort key is not used in the table).\n",
    "\n",
    "For the *travel_planner_trips* table, the partition key and sort key are:\n",
    "- **Partition key:** *user_id*\n",
    "- **Sort key:** *trip_id*\n",
    "\n",
    "The trip id is created as a combination of the start date and the first location."
   ]
  },
  {
   "cell_type": "markdown",
   "id": "339d8ad8-6ff7-458a-b37b-7830262d70e0",
   "metadata": {},
   "source": [
    "### Define trip data to be inserted\n",
    "When **using** the **service client**, the **JSON structure** needs to **include DynamoDB specific data type specification** for each data field."
   ]
  },
  {
   "cell_type": "code",
   "execution_count": null,
   "id": "12532108-8f51-4baf-aca3-6a136e05a106",
   "metadata": {},
   "outputs": [],
   "source": [
    "trip_data = {\n",
    "    \"user_id\": {\n",
    "            \"S\": \"moose\"\n",
    "        },\n",
    "    \"trip_id\": {\n",
    "        \"S\": \"2026/03/17_Portugal\"\n",
    "    },\n",
    "    \"locations\": {\n",
    "        \"L\": [\n",
    "            {\n",
    "                \"S\": \"Portugal\"\n",
    "            }\n",
    "        ]\n",
    "    },\n",
    "    \"start_date\": {\n",
    "        \"S\": \"2026/03/17\"\n",
    "    },\n",
    "    \"end_date\": {\n",
    "        \"S\": \"2026/03/22\"\n",
    "    },\n",
    "    \"start_time\": {\n",
    "        \"S\": \"11:00am\"\n",
    "    },\n",
    "    \"end_time\": {\n",
    "        \"S\": \"3:00pm\"\n",
    "    }\n",
    "}"
   ]
  },
  {
   "cell_type": "markdown",
   "id": "38277a46-348a-44c1-baa8-57e15197dcf5",
   "metadata": {},
   "source": [
    "### Perform put_item operation"
   ]
  },
  {
   "cell_type": "code",
   "execution_count": null,
   "id": "1bf6e8fe-7abb-47f6-b7b3-d0011c1c60b5",
   "metadata": {},
   "outputs": [],
   "source": [
    "# Insert the data into the table\n",
    "try:\n",
    "    # insert the trip using the service client\n",
    "    db_resp = ddb.put_item(\n",
    "        TableName='travel_planner_trips',\n",
    "        Item = trip_data\n",
    "    )  \n",
    "\n",
    "except ClientError as e:\n",
    "    print(\"Error on put: \")\n",
    "    print(e)"
   ]
  },
  {
   "cell_type": "markdown",
   "id": "2ec1328d-e5fe-48f9-b73b-cb1af035bcd9",
   "metadata": {},
   "source": [
    "### Get data from response object\n",
    "Response objects are in JSON format, which in Python will be in a dictionary. We just need to check the format, and extract the data we want from it."
   ]
  },
  {
   "cell_type": "markdown",
   "id": "2886ebb1-b304-4736-a086-87d7a3a11300",
   "metadata": {},
   "source": [
    "#### Print the complete response object if we want to visualize it"
   ]
  },
  {
   "cell_type": "code",
   "execution_count": null,
   "id": "51453975-1446-45e0-aeed-1db7e1ca0269",
   "metadata": {},
   "outputs": [],
   "source": [
    "print(\"Full response:\\n\",\n",
    "      json.dumps(db_resp, indent=4))"
   ]
  },
  {
   "cell_type": "code",
   "execution_count": null,
   "id": "988aa56d-413d-43cd-9949-87d97eeb6f41",
   "metadata": {},
   "outputs": [],
   "source": []
  }
 ],
 "metadata": {
  "kernelspec": {
   "display_name": "Python 3 (ipykernel)",
   "language": "python",
   "name": "python3"
  },
  "language_info": {
   "codemirror_mode": {
    "name": "ipython",
    "version": 3
   },
   "file_extension": ".py",
   "mimetype": "text/x-python",
   "name": "python",
   "nbconvert_exporter": "python",
   "pygments_lexer": "ipython3",
   "version": "3.13.5"
  }
 },
 "nbformat": 4,
 "nbformat_minor": 5
}
