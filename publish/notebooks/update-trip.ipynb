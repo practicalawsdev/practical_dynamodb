{
 "cells": [
  {
   "cell_type": "markdown",
   "id": "5822cfc6-6c2d-4ee7-8f26-e44dfb6320ee",
   "metadata": {
    "editable": true,
    "slideshow": {
     "slide_type": ""
    },
    "tags": []
   },
   "source": [
    "# <span style=\"color:blue\">DynamoDB update_item\n",
    "An ***update_item*** operation **updates attributes** of an **existing item**."
   ]
  },
  {
   "cell_type": "markdown",
   "id": "267a5847-ea4b-4c01-9273-146a625902b8",
   "metadata": {},
   "source": [
    "# 1) Import AWS Python SDK (Boto) Package"
   ]
  },
  {
   "cell_type": "code",
   "execution_count": null,
   "id": "99c14013-d79d-4e8e-920a-6e8d0e48258a",
   "metadata": {},
   "outputs": [],
   "source": [
    "import boto3\n",
    "from boto3.dynamodb.conditions import Key"
   ]
  },
  {
   "cell_type": "code",
   "execution_count": null,
   "id": "86903f80-bed7-4276-a9ed-86a682885586",
   "metadata": {},
   "outputs": [],
   "source": [
    "# import standard library to print nice JSON\n",
    "import json"
   ]
  },
  {
   "cell_type": "markdown",
   "id": "dafe24fc-278d-432f-9b65-3a6dc2f0d29c",
   "metadata": {},
   "source": [
    "# 2) Create DynamoDB client object\n",
    "The Python SDK supports two clients:\n",
    "- The low level DynamoDB **service client**\n",
    "- The higher level DynamoDB **resource client**\n",
    "\n",
    "**For this example I'll be using the resource client**, which makes for simpler looking calls."
   ]
  },
  {
   "cell_type": "code",
   "execution_count": null,
   "id": "bf546e8f-976e-469c-87c1-d55f92760416",
   "metadata": {},
   "outputs": [],
   "source": [
    "# Creating the DynamoDB Client\n",
    "ddb = boto3.resource('dynamodb')"
   ]
  },
  {
   "cell_type": "markdown",
   "id": "300535fd-05b5-4613-8aca-46e7a2672869",
   "metadata": {},
   "source": [
    "# 3) Use DynamoDB client to perform a query"
   ]
  },
  {
   "cell_type": "markdown",
   "id": "c65cf052-93b0-4f83-bced-3624d60da351",
   "metadata": {},
   "source": [
    "### Get table resource\n",
    "The resource client follows an object-oriented style. So here I use the resource client to get an object that maps to the table specified. I will subsequently make calls on that object."
   ]
  },
  {
   "cell_type": "code",
   "execution_count": null,
   "id": "1001198b-b742-4a48-b4fc-e58e5d46c9b1",
   "metadata": {},
   "outputs": [],
   "source": [
    "try:\n",
    "    # get a reference to the trips table\n",
    "    trips_table = ddb.Table('travel_planner_trips')\n",
    "# catch exceptions\n",
    "except Exception as e:\n",
    "    print(\"Error obtaining resource: \", e)"
   ]
  },
  {
   "attachments": {},
   "cell_type": "markdown",
   "id": "0802e2e4-ecf7-4551-98f1-49cfa007a815",
   "metadata": {},
   "source": [
    "## Update a trip to add an itinerary\n",
    "An **update** operation updates an attribute on an item.\n",
    "\n",
    "For the *travel_planner_trips* table, the partition key and sort key are:\n",
    "- **Partition key:** *user_id*\n",
    "- **Sort key:** *trip_id*\n",
    "\n",
    "An **update** will **use** a ***Key*** parameter in the operation to specify the primary key for the item being updated."
   ]
  },
  {
   "cell_type": "markdown",
   "id": "60232cef-b44d-4fbf-9b88-8adeaae87c39",
   "metadata": {},
   "source": [
    "### Specify trip to be updated"
   ]
  },
  {
   "cell_type": "code",
   "execution_count": null,
   "id": "d0718c5c-a2e3-439c-84eb-c47c7125ad06",
   "metadata": {},
   "outputs": [],
   "source": [
    "# set variables for the primary key\n",
    "user_id = \"lexi\"\n",
    "trip_id = \"2026/10/17_Vermont\""
   ]
  },
  {
   "cell_type": "markdown",
   "id": "5cf97406-92d4-4d0d-8fdc-b0f10ba5e736",
   "metadata": {},
   "source": [
    "### Specify trip data to be update"
   ]
  },
  {
   "cell_type": "code",
   "execution_count": null,
   "id": "24f40b68-df99-4237-9e57-a03a240ab05b",
   "metadata": {},
   "outputs": [],
   "source": [
    "# itinerary to be added\n",
    "itinerary = [\n",
    "    {\n",
    "        \"date\": \"2026/10/17\",\n",
    "        \"from_time\": \"17:30\",\n",
    "        \"to_time\": \"19:00\",\n",
    "        \"title\": \"Dinner at The Skinny Pancake\",\n",
    "        \"location\": \"Burlington\",\n",
    "        \"description\": \"Enjoy a delicious dinner at this popular Vermont pancake restaurant.\"\n",
    "    },\n",
    "    {\n",
    "        \"date\": \"2026/10/18\",\n",
    "        \"from_time\": \"09:00\",\n",
    "        \"to_time\": \"17:00\",\n",
    "        \"title\": \"Hike at Mount Philo State Park\",\n",
    "        \"location\": \"Charlotte\",\n",
    "        \"description\": \"Explore the scenic trails of Mount Philo, offering breathtaking views of Lake Champlain.\"\n",
    "    },\n",
    "    {\n",
    "        \"date\": \"2026/10/19\",\n",
    "        \"from_time\": \"09:00\",\n",
    "        \"to_time\": \"11:00\",\n",
    "        \"title\": \"Hike at Smugglers' Notch Resort\",\n",
    "        \"location\": \"Jeffersonville\",\n",
    "        \"description\": \"Take a morning hike through the beautiful trails at Smugglers' Notch before heading home.\"\n",
    "    }\n",
    "]"
   ]
  },
  {
   "cell_type": "markdown",
   "id": "2ae89692-d0ca-4354-9701-f27e86e27e6f",
   "metadata": {},
   "source": [
    "### Perform update_item operation"
   ]
  },
  {
   "cell_type": "code",
   "execution_count": null,
   "id": "8aa876ae-5fe2-4f2e-8af4-f3d81abccb02",
   "metadata": {},
   "outputs": [],
   "source": [
    "try:\n",
    "    # Update an item in the table\n",
    "    db_resp = trips_table.update_item(\n",
    "        # Define the primary key of the item to update\n",
    "        Key={\n",
    "            \"user_id\": user_id,\n",
    "            \"trip_id\": trip_id\n",
    "        },\n",
    "        # Define the update expression\n",
    "        UpdateExpression=\"SET itinerary = :itinerary\",\n",
    "        # Define the expression attribute values\n",
    "        ExpressionAttributeValues={\n",
    "            \":itinerary\": itinerary\n",
    "        }\n",
    "    )\n",
    "\n",
    "except ClientError as e:\n",
    "    print(\"Error on put: \")\n",
    "    print(e)"
   ]
  },
  {
   "cell_type": "markdown",
   "id": "0b2dcac7-bd8f-4782-88f1-b95dc8e8103b",
   "metadata": {},
   "source": [
    "### Get data from response object\n",
    "Response objects are in JSON format, which in Python will be in a dictionary. We just need to check the format, and extract the data we want from it."
   ]
  },
  {
   "cell_type": "markdown",
   "id": "289d4bb8-e73a-4548-b77d-c1b20fc27778",
   "metadata": {},
   "source": [
    "#### Print the complete response object if we want to visualize it"
   ]
  },
  {
   "cell_type": "code",
   "execution_count": null,
   "id": "26f5faae-3758-479a-b025-3e9a2de4c8a4",
   "metadata": {},
   "outputs": [],
   "source": [
    "print(\"Full response:\\n\",\n",
    "      json.dumps(db_resp, indent=4))"
   ]
  },
  {
   "cell_type": "code",
   "execution_count": null,
   "id": "6166f7a4-b554-48eb-9dfc-4c54d51450c0",
   "metadata": {},
   "outputs": [],
   "source": []
  }
 ],
 "metadata": {
  "kernelspec": {
   "display_name": "Python 3 (ipykernel)",
   "language": "python",
   "name": "python3"
  },
  "language_info": {
   "codemirror_mode": {
    "name": "ipython",
    "version": 3
   },
   "file_extension": ".py",
   "mimetype": "text/x-python",
   "name": "python",
   "nbconvert_exporter": "python",
   "pygments_lexer": "ipython3",
   "version": "3.13.5"
  }
 },
 "nbformat": 4,
 "nbformat_minor": 5
}
