{
 "cells": [
  {
   "cell_type": "markdown",
   "id": "5822cfc6-6c2d-4ee7-8f26-e44dfb6320ee",
   "metadata": {
    "editable": true,
    "slideshow": {
     "slide_type": ""
    },
    "tags": []
   },
   "source": [
    "# <span style=\"color:blue\">DynamoDB query with Index\n",
    "A ***query*** operation **retrieves** items with specified **partition key**, and **optional** filtering criteria on the **sort key**. The **partition key** must be an **exact match**, but the **sort key** can have more **flexible comparisons**.\n",
    "\n",
    "If the main table partition key is not a match for the query, an index can be used."
   ]
  },
  {
   "cell_type": "markdown",
   "id": "267a5847-ea4b-4c01-9273-146a625902b8",
   "metadata": {},
   "source": [
    "# 1) Import AWS Python SDK (Boto) Package"
   ]
  },
  {
   "cell_type": "code",
   "execution_count": null,
   "id": "99c14013-d79d-4e8e-920a-6e8d0e48258a",
   "metadata": {},
   "outputs": [],
   "source": [
    "import boto3\n",
    "from boto3.dynamodb.conditions import Key"
   ]
  },
  {
   "cell_type": "code",
   "execution_count": null,
   "id": "86903f80-bed7-4276-a9ed-86a682885586",
   "metadata": {},
   "outputs": [],
   "source": [
    "# import standard library to print nice JSON\n",
    "import json"
   ]
  },
  {
   "cell_type": "markdown",
   "id": "dafe24fc-278d-432f-9b65-3a6dc2f0d29c",
   "metadata": {},
   "source": [
    "# 2) Create DynamoDB client object\n",
    "The Python SDK supports two clients:\n",
    "- The low level DynamoDB **service client**\n",
    "- The higher level DynamoDB **resource client**\n",
    "\n",
    "**For this example I'll be using the resource client**, which makes for simpler looking calls."
   ]
  },
  {
   "cell_type": "code",
   "execution_count": null,
   "id": "bf546e8f-976e-469c-87c1-d55f92760416",
   "metadata": {},
   "outputs": [],
   "source": [
    "# Creating the DynamoDB Client\n",
    "ddb = boto3.resource('dynamodb')"
   ]
  },
  {
   "cell_type": "markdown",
   "id": "300535fd-05b5-4613-8aca-46e7a2672869",
   "metadata": {},
   "source": [
    "# 3) Use DynamoDB client to perform query against an index"
   ]
  },
  {
   "cell_type": "markdown",
   "id": "c65cf052-93b0-4f83-bced-3624d60da351",
   "metadata": {},
   "source": [
    "### Get table resource\n",
    "The resource client follows an object-oriented style. So here I use the resource client to get an object that maps to the table specified. I will subsequently make calls on that object."
   ]
  },
  {
   "cell_type": "code",
   "execution_count": null,
   "id": "1001198b-b742-4a48-b4fc-e58e5d46c9b1",
   "metadata": {},
   "outputs": [],
   "source": [
    "try:\n",
    "    # get a reference to the trips table\n",
    "    trips_table = ddb.Table('travel_planner_trips')\n",
    "# catch exceptions\n",
    "except Exception as e:\n",
    "    print(\"Error obtaining resource: \", e)"
   ]
  },
  {
   "attachments": {},
   "cell_type": "markdown",
   "id": "42749c08-db12-459d-ad52-42be0dc3811e",
   "metadata": {},
   "source": [
    "## Retrieve trips between a range with *query* using an index\n",
    "A ***query*** operation retrieves items with specified partition key, and optional filtering criteria on the sort key. We want to performa a query for trips in a range of dates, but the start_date is not the sort criteria in the main table. To support an efficient query, we have created the **trips_userid_startdate** global secondary index.\n",
    "\n",
    "For the *trips_userid_startdate* index, the partition key and sort key are:\n",
    "- **Partition key:** *user_id*\n",
    "- **Sort key:** *start_date*\n",
    "\n",
    "A **query** will **use** a ***KeyConditionExpression*** in the operation to specify the key based query criteria."
   ]
  },
  {
   "cell_type": "markdown",
   "id": "276c9aa9-1676-47c7-979d-3e96ec3f056b",
   "metadata": {},
   "source": [
    "### Specify data to be retrieved"
   ]
  },
  {
   "cell_type": "code",
   "execution_count": null,
   "id": "8a52e372-b949-4422-9f20-a0c95d0ba9d9",
   "metadata": {},
   "outputs": [],
   "source": [
    "# set variables for the filtering criteria\n",
    "user_id = \"tucker\"\n",
    "from_date = \"2025/07/09\"\n",
    "to_date = \"2026/12/31\""
   ]
  },
  {
   "cell_type": "markdown",
   "id": "e37c60a3-613e-40bc-99d8-e3225f6f82d4",
   "metadata": {},
   "source": [
    "### Perform query operation"
   ]
  },
  {
   "cell_type": "code",
   "execution_count": null,
   "id": "8e82dd06-e1a2-48fd-8d8c-41f6074045ac",
   "metadata": {},
   "outputs": [],
   "source": [
    "try:        \n",
    "    # Perform the query against the index\n",
    "    db_resp = trips_table.query(\n",
    "        IndexName='trips_userid_startdate',\n",
    "        KeyConditionExpression= (\n",
    "            Key('user_id').eq(user_id) & \n",
    "            Key('start_date').between(from_date, to_date)\n",
    "        )\n",
    "    )\n",
    "    \n",
    "# catch exceptions\n",
    "except Exception as e:\n",
    "    print(\"Error on query: \")\n",
    "    print(e)"
   ]
  },
  {
   "cell_type": "markdown",
   "id": "80f3c921-f866-40db-bd01-c2f1d528f525",
   "metadata": {},
   "source": [
    "### Get data from response object\n",
    "Response objects are in JSON format, which in Python will be in a dictionary. We just need to check the format, and extract the data we want from it."
   ]
  },
  {
   "cell_type": "markdown",
   "id": "2d45004a-c10f-4803-a572-c1c5b7bf3842",
   "metadata": {},
   "source": [
    "#### Print the complete response object if we want to visualize it"
   ]
  },
  {
   "cell_type": "code",
   "execution_count": null,
   "id": "fd9d8899-ab5d-4266-8cb1-7b8ba0c4de75",
   "metadata": {},
   "outputs": [],
   "source": [
    "print(\"Full response:\\n\",\n",
    "      json.dumps(db_resp, indent=4))"
   ]
  },
  {
   "cell_type": "markdown",
   "id": "d82be5c6-8dfd-48bd-a1a0-8a94a3873bc7",
   "metadata": {},
   "source": [
    "#### Extract just the data we want"
   ]
  },
  {
   "cell_type": "code",
   "execution_count": null,
   "id": "cb1140a9-c728-4927-a106-bd7dd93c2372",
   "metadata": {},
   "outputs": [],
   "source": [
    "# iterate through each item, and print a summary for each\n",
    "for item in db_resp['Items']:\n",
    "    start_date = item['start_date']\n",
    "    end_date = item['end_date']\n",
    "    locations = item['locations']\n",
    "    \n",
    "    print(f'From: {start_date} to {end_date} - {locations}')"
   ]
  },
  {
   "cell_type": "code",
   "execution_count": null,
   "id": "0b80f790-dab7-4522-9212-dde75caa1a36",
   "metadata": {},
   "outputs": [],
   "source": []
  }
 ],
 "metadata": {
  "kernelspec": {
   "display_name": "Python 3 (ipykernel)",
   "language": "python",
   "name": "python3"
  },
  "language_info": {
   "codemirror_mode": {
    "name": "ipython",
    "version": 3
   },
   "file_extension": ".py",
   "mimetype": "text/x-python",
   "name": "python",
   "nbconvert_exporter": "python",
   "pygments_lexer": "ipython3",
   "version": "3.13.5"
  }
 },
 "nbformat": 4,
 "nbformat_minor": 5
}
